{
  "nbformat": 4,
  "nbformat_minor": 0,
  "metadata": {
    "colab": {
      "name": "Untitled5.ipynb",
      "provenance": []
    },
    "kernelspec": {
      "name": "python3",
      "display_name": "Python 3"
    }
  },
  "cells": [
    {
      "cell_type": "markdown",
      "metadata": {
        "id": "tRQcWN1Edm0p",
        "colab_type": "text"
      },
      "source": [
        "<p align=\"center\">\n",
        "<img src=\"https://cdn.datacamp.com/main-app/assets/brand/datacamp-horizontal-rgb-b641f95b7bdd7560b554c761a0b4910f9619907dd823c0e41244ed72078723bf.svg\" alt = \"DataCamp icon\" width=\"50%\">\n",
        "</p>\n",
        "<br><br>\n",
        "\n"
      ]
    },
    {
      "cell_type": "markdown",
      "metadata": {
        "id": "GUV6DZ6Qfz6h",
        "colab_type": "text"
      },
      "source": [
        "# Setup\n",
        "\n",
        "Before we get started, we need to do some initial setup. Please run the cells below to install postgress, start the server, load sql extensions, download data, and create the required database tables. This will take a few minutes on the first run."
      ]
    },
    {
      "cell_type": "code",
      "metadata": {
        "id": "0dpufov7dnk4",
        "colab_type": "code",
        "colab": {},
        "cellView": "both"
      },
      "source": [
        "#@title Install postgres and start server\n",
        "%%capture\n",
        "!wget -qO- https://www.postgresql.org/media/keys/ACCC4CF8.asc | apt-key add -\n",
        "!echo \"deb http://apt.postgresql.org/pub/repos/apt/ bionic-pgdg main\" >/etc/apt/sources.list.d/pgdg.list\n",
        "!apt -qq update\n",
        "!apt -yq install postgresql-12 postgresql-client-12\n",
        "!service postgresql start\n",
        "# make calling psql shorter\n",
        "!sudo -u postgres psql -c \"CREATE USER root WITH SUPERUSER\"  \n",
        "!psql postgres -c \"CREATE DATABASE root\"  # now just !psql -c \"...\"\n",
        "# load SQL extensions\n",
        "%load_ext sql\n",
        "%config SqlMagic.feedback=False \n",
        "%config SqlMagic.autopandas=True\n",
        "%sql postgresql+psycopg2://@/postgres"
      ],
      "execution_count": 0,
      "outputs": []
    },
    {
      "cell_type": "code",
      "metadata": {
        "id": "TlbbE1CxfbKU",
        "colab_type": "code",
        "colab": {},
        "cellView": "form"
      },
      "source": [
        "#@title Download data as CSV files\n",
        "!wget -q https://raw.githubusercontent.com/baldwint/binder-postgres/postgres/data/actor.csv"
      ],
      "execution_count": 0,
      "outputs": []
    },
    {
      "cell_type": "code",
      "metadata": {
        "id": "w72wAJVBfcHW",
        "colab_type": "code",
        "colab": {
          "base_uri": "https://localhost:8080/",
          "height": 49
        },
        "cellView": "form",
        "outputId": "779a5675-65bc-4999-9d65-420c85477104"
      },
      "source": [
        "#@title Create Tables\n",
        "%%sql\n",
        "DROP TABLE IF EXISTS actor;\n",
        "CREATE TABLE actor(\n",
        " actor_id int primary key,\n",
        " first_name varchar(50),\n",
        " last_name varchar(50),\n",
        " last_update timestamp\n",
        ");\n",
        "COPY actor\n",
        "FROM '/content/actor.csv' DELIMITER ',' CSV HEADER;"
      ],
      "execution_count": 3,
      "outputs": [
        {
          "output_type": "stream",
          "text": [
            " * postgresql+psycopg2://@/postgres\n"
          ],
          "name": "stdout"
        },
        {
          "output_type": "execute_result",
          "data": {
            "text/html": [
              "<div>\n",
              "<style scoped>\n",
              "    .dataframe tbody tr th:only-of-type {\n",
              "        vertical-align: middle;\n",
              "    }\n",
              "\n",
              "    .dataframe tbody tr th {\n",
              "        vertical-align: top;\n",
              "    }\n",
              "\n",
              "    .dataframe thead th {\n",
              "        text-align: right;\n",
              "    }\n",
              "</style>\n",
              "<table border=\"1\" class=\"dataframe\">\n",
              "  <thead>\n",
              "    <tr style=\"text-align: right;\">\n",
              "      <th></th>\n",
              "    </tr>\n",
              "  </thead>\n",
              "  <tbody>\n",
              "  </tbody>\n",
              "</table>\n",
              "</div>"
            ],
            "text/plain": [
              "Empty DataFrame\n",
              "Columns: []\n",
              "Index: []"
            ]
          },
          "metadata": {
            "tags": []
          },
          "execution_count": 3
        }
      ]
    },
    {
      "cell_type": "markdown",
      "metadata": {
        "id": "yd7tHlVpgGjx",
        "colab_type": "text"
      },
      "source": [
        "# Get Started"
      ]
    },
    {
      "cell_type": "code",
      "metadata": {
        "id": "kbKrfnA8gIDm",
        "colab_type": "code",
        "colab": {
          "base_uri": "https://localhost:8080/",
          "height": 376
        },
        "outputId": "3bfb0cdb-17eb-4175-a7f9-6d4182801297"
      },
      "source": [
        "%%sql\n",
        "SELECT * FROM actor LIMIT 10"
      ],
      "execution_count": 4,
      "outputs": [
        {
          "output_type": "stream",
          "text": [
            " * postgresql+psycopg2://@/postgres\n"
          ],
          "name": "stdout"
        },
        {
          "output_type": "execute_result",
          "data": {
            "text/html": [
              "<div>\n",
              "<style scoped>\n",
              "    .dataframe tbody tr th:only-of-type {\n",
              "        vertical-align: middle;\n",
              "    }\n",
              "\n",
              "    .dataframe tbody tr th {\n",
              "        vertical-align: top;\n",
              "    }\n",
              "\n",
              "    .dataframe thead th {\n",
              "        text-align: right;\n",
              "    }\n",
              "</style>\n",
              "<table border=\"1\" class=\"dataframe\">\n",
              "  <thead>\n",
              "    <tr style=\"text-align: right;\">\n",
              "      <th></th>\n",
              "      <th>actor_id</th>\n",
              "      <th>first_name</th>\n",
              "      <th>last_name</th>\n",
              "      <th>last_update</th>\n",
              "    </tr>\n",
              "  </thead>\n",
              "  <tbody>\n",
              "    <tr>\n",
              "      <th>0</th>\n",
              "      <td>1</td>\n",
              "      <td>Penelope</td>\n",
              "      <td>Guiness</td>\n",
              "      <td>2006-02-15 10:05:00</td>\n",
              "    </tr>\n",
              "    <tr>\n",
              "      <th>1</th>\n",
              "      <td>2</td>\n",
              "      <td>Nick</td>\n",
              "      <td>Wahlberg</td>\n",
              "      <td>2006-02-15 10:05:00</td>\n",
              "    </tr>\n",
              "    <tr>\n",
              "      <th>2</th>\n",
              "      <td>3</td>\n",
              "      <td>Ed</td>\n",
              "      <td>Chase</td>\n",
              "      <td>2006-02-15 10:05:00</td>\n",
              "    </tr>\n",
              "    <tr>\n",
              "      <th>3</th>\n",
              "      <td>4</td>\n",
              "      <td>Jennifer</td>\n",
              "      <td>Davis</td>\n",
              "      <td>2006-02-15 10:05:00</td>\n",
              "    </tr>\n",
              "    <tr>\n",
              "      <th>4</th>\n",
              "      <td>5</td>\n",
              "      <td>Johnny</td>\n",
              "      <td>Lollobrigida</td>\n",
              "      <td>2006-02-15 10:05:00</td>\n",
              "    </tr>\n",
              "    <tr>\n",
              "      <th>5</th>\n",
              "      <td>6</td>\n",
              "      <td>Bette</td>\n",
              "      <td>Nicholson</td>\n",
              "      <td>2006-02-15 10:05:00</td>\n",
              "    </tr>\n",
              "    <tr>\n",
              "      <th>6</th>\n",
              "      <td>7</td>\n",
              "      <td>Grace</td>\n",
              "      <td>Mostel</td>\n",
              "      <td>2006-02-15 10:05:00</td>\n",
              "    </tr>\n",
              "    <tr>\n",
              "      <th>7</th>\n",
              "      <td>8</td>\n",
              "      <td>Matthew</td>\n",
              "      <td>Johansson</td>\n",
              "      <td>2006-02-15 10:05:00</td>\n",
              "    </tr>\n",
              "    <tr>\n",
              "      <th>8</th>\n",
              "      <td>9</td>\n",
              "      <td>Joe</td>\n",
              "      <td>Swank</td>\n",
              "      <td>2006-02-15 10:05:00</td>\n",
              "    </tr>\n",
              "    <tr>\n",
              "      <th>9</th>\n",
              "      <td>10</td>\n",
              "      <td>Christian</td>\n",
              "      <td>Gable</td>\n",
              "      <td>2006-02-15 10:05:00</td>\n",
              "    </tr>\n",
              "  </tbody>\n",
              "</table>\n",
              "</div>"
            ],
            "text/plain": [
              "   actor_id first_name     last_name         last_update\n",
              "0         1   Penelope       Guiness 2006-02-15 10:05:00\n",
              "1         2       Nick      Wahlberg 2006-02-15 10:05:00\n",
              "2         3         Ed         Chase 2006-02-15 10:05:00\n",
              "3         4   Jennifer         Davis 2006-02-15 10:05:00\n",
              "4         5     Johnny  Lollobrigida 2006-02-15 10:05:00\n",
              "5         6      Bette     Nicholson 2006-02-15 10:05:00\n",
              "6         7      Grace        Mostel 2006-02-15 10:05:00\n",
              "7         8    Matthew     Johansson 2006-02-15 10:05:00\n",
              "8         9        Joe         Swank 2006-02-15 10:05:00\n",
              "9        10  Christian         Gable 2006-02-15 10:05:00"
            ]
          },
          "metadata": {
            "tags": []
          },
          "execution_count": 4
        }
      ]
    }
  ]
}